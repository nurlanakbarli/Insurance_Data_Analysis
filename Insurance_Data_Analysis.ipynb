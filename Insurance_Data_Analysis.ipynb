{
 "cells": [
  {
   "cell_type": "code",
   "execution_count": 1,
   "id": "81e6e472",
   "metadata": {},
   "outputs": [],
   "source": [
    "import os\n",
    "import numpy as np\n",
    "import pandas as pd\n",
    "from matplotlib import pyplot as plt\n",
    "import seaborn as sns"
   ]
  },
  {
   "cell_type": "code",
   "execution_count": null,
   "id": "5da6ed9d",
   "metadata": {},
   "outputs": [],
   "source": [
    "os.getcwd()"
   ]
  },
  {
   "cell_type": "code",
   "execution_count": 3,
   "id": "4df6bbd9",
   "metadata": {},
   "outputs": [],
   "source": [
    "os.chdir(\"C:\\\\Users\\\\Nurlan\\\\DU_Big_Data\\\\Projet\")"
   ]
  },
  {
   "attachments": {},
   "cell_type": "markdown",
   "id": "612c0852",
   "metadata": {},
   "source": [
    "# Base freq"
   ]
  },
  {
   "cell_type": "code",
   "execution_count": null,
   "id": "3356b12e",
   "metadata": {},
   "outputs": [],
   "source": [
    "base_freq = pd.read_excel(\"db_freq.xlsx\",decimal = \",\")\n",
    "freq = base_freq.copy()\n",
    "freq.sort_values(by=[\"IDpol\"],ascending = [True],inplace = True)\n",
    "freq"
   ]
  },
  {
   "cell_type": "code",
   "execution_count": 5,
   "id": "a2a61463",
   "metadata": {},
   "outputs": [
    {
     "name": "stdout",
     "output_type": "stream",
     "text": [
      "<class 'pandas.core.frame.DataFrame'>\n",
      "Int64Index: 64195 entries, 37369 to 28944\n",
      "Data columns (total 8 columns):\n",
      " #   Column      Non-Null Count  Dtype \n",
      "---  ------      --------------  ----- \n",
      " 0   IDpol       64195 non-null  object\n",
      " 1   Year        64195 non-null  int64 \n",
      " 2   Damage      64195 non-null  int64 \n",
      " 3   Fire        64195 non-null  int64 \n",
      " 4   Other       64195 non-null  int64 \n",
      " 5   Theft       64195 non-null  int64 \n",
      " 6   TPL         64195 non-null  int64 \n",
      " 7   Windscreen  64195 non-null  int64 \n",
      "dtypes: int64(7), object(1)\n",
      "memory usage: 4.4+ MB\n"
     ]
    }
   ],
   "source": [
    "freq.info()\n",
    "#freq.count()"
   ]
  },
  {
   "attachments": {},
   "cell_type": "markdown",
   "id": "b1958136",
   "metadata": {},
   "source": [
    "# Base Sev"
   ]
  },
  {
   "cell_type": "code",
   "execution_count": null,
   "id": "543994ac",
   "metadata": {},
   "outputs": [],
   "source": [
    "base_sev =  pd.read_csv(\"db_sev.txt\", delimiter=\"\\t\")\n",
    "#base_sev =  pd.read_csv(\"db_sev.txt\", delimiter=\"\\t\",index_col = 0) #sev.set_index('IDpol', inplace = True)\n",
    "sev = base_sev.copy()\n",
    "#sev.sort_values(by=[\"IDpol\"],ascending = [True],inplace = True)\n",
    "#sev.set_index('IDpol', inplace = True)\n",
    "sev"
   ]
  },
  {
   "attachments": {},
   "cell_type": "markdown",
   "id": "b8ffa394",
   "metadata": {},
   "source": [
    "# Base Prem"
   ]
  },
  {
   "cell_type": "code",
   "execution_count": null,
   "id": "ca31225b",
   "metadata": {},
   "outputs": [],
   "source": [
    "base_prem = pd.read_csv(\"db_prem.csv\",delimiter=\";\",decimal = \",\")\n",
    "prem = base_prem.copy()\n",
    "prem.sort_values(by=[\"IDpol\"],ascending = [True],inplace = True)\n",
    "prem"
   ]
  },
  {
   "cell_type": "code",
   "execution_count": 8,
   "id": "6e02e2f7",
   "metadata": {},
   "outputs": [],
   "source": [
    "# prem.info()\n",
    "# prem.count()\n",
    "# prem.notna().sum()\n"
   ]
  },
  {
   "attachments": {},
   "cell_type": "markdown",
   "id": "35f2caef",
   "metadata": {},
   "source": [
    "# Doublons"
   ]
  },
  {
   "attachments": {},
   "cell_type": "markdown",
   "id": "2a54c6b4",
   "metadata": {},
   "source": [
    "Base Freq"
   ]
  },
  {
   "cell_type": "code",
   "execution_count": 9,
   "id": "09fadd25",
   "metadata": {},
   "outputs": [
    {
     "data": {
      "text/plain": [
       "32097"
      ]
     },
     "execution_count": 9,
     "metadata": {},
     "output_type": "execute_result"
    }
   ],
   "source": [
    "len(freq.IDpol) - freq.IDpol.nunique()"
   ]
  },
  {
   "cell_type": "code",
   "execution_count": 10,
   "id": "7277ab13",
   "metadata": {},
   "outputs": [
    {
     "data": {
      "text/plain": [
       "0"
      ]
     },
     "execution_count": 10,
     "metadata": {},
     "output_type": "execute_result"
    }
   ],
   "source": [
    "sum(freq.duplicated())\n",
    "#freq.duplicated().sum()"
   ]
  },
  {
   "attachments": {},
   "cell_type": "markdown",
   "id": "6b268b87",
   "metadata": {},
   "source": [
    "Base sev"
   ]
  },
  {
   "cell_type": "code",
   "execution_count": 11,
   "id": "aaf1e25d",
   "metadata": {},
   "outputs": [
    {
     "data": {
      "text/plain": [
       "2436"
      ]
     },
     "execution_count": 11,
     "metadata": {},
     "output_type": "execute_result"
    }
   ],
   "source": [
    "len(sev.IDpol) - sev.IDpol.nunique()"
   ]
  },
  {
   "cell_type": "code",
   "execution_count": 12,
   "id": "c69100c3",
   "metadata": {},
   "outputs": [
    {
     "data": {
      "text/plain": [
       "0"
      ]
     },
     "execution_count": 12,
     "metadata": {},
     "output_type": "execute_result"
    }
   ],
   "source": [
    "sum(sev.duplicated())"
   ]
  },
  {
   "attachments": {},
   "cell_type": "markdown",
   "id": "9e8e101d",
   "metadata": {},
   "source": [
    "Base Prem"
   ]
  },
  {
   "cell_type": "code",
   "execution_count": 13,
   "id": "0bf95326",
   "metadata": {},
   "outputs": [
    {
     "data": {
      "text/plain": [
       "20255"
      ]
     },
     "execution_count": 13,
     "metadata": {},
     "output_type": "execute_result"
    }
   ],
   "source": [
    "len(prem.IDpol) - prem.IDpol.nunique()"
   ]
  },
  {
   "cell_type": "code",
   "execution_count": 14,
   "id": "b8693519",
   "metadata": {},
   "outputs": [
    {
     "data": {
      "text/plain": [
       "4533     False\n",
       "8368     False\n",
       "1013     False\n",
       "3003     False\n",
       "3605     False\n",
       "         ...  \n",
       "4816     False\n",
       "20639    False\n",
       "20885    False\n",
       "37807    False\n",
       "47307    False\n",
       "Length: 52372, dtype: bool"
      ]
     },
     "execution_count": 14,
     "metadata": {},
     "output_type": "execute_result"
    }
   ],
   "source": [
    "prem.duplicated()\n",
    "#prem.duplicated().sum()"
   ]
  },
  {
   "cell_type": "code",
   "execution_count": 15,
   "id": "0eefdce2",
   "metadata": {},
   "outputs": [
    {
     "data": {
      "text/plain": [
       "0"
      ]
     },
     "execution_count": 15,
     "metadata": {},
     "output_type": "execute_result"
    }
   ],
   "source": [
    "sum(prem.duplicated()) \n",
    "#prem.duplicated().sum()"
   ]
  },
  {
   "cell_type": "code",
   "execution_count": null,
   "id": "96d06ccd",
   "metadata": {},
   "outputs": [],
   "source": [
    "prem[prem.duplicated(subset = \"IDpol\", keep = False)].sort_values(by = 'IDpol')\n",
    "# non-pure duplicates\n",
    "# different year 2003 and 2004\n",
    "# differences in PremLegal PremTPLM PremTPLV PremServ PremTheft PremTot"
   ]
  },
  {
   "attachments": {},
   "cell_type": "markdown",
   "id": "2d8fe715",
   "metadata": {},
   "source": [
    "# Gestion des DM"
   ]
  },
  {
   "attachments": {},
   "cell_type": "markdown",
   "id": "6c49b502",
   "metadata": {},
   "source": [
    "Base sev"
   ]
  },
  {
   "cell_type": "code",
   "execution_count": 17,
   "id": "cb7a19a0",
   "metadata": {},
   "outputs": [
    {
     "data": {
      "text/plain": [
       "IDpol        0\n",
       "OccurDate    0\n",
       "Payment      0\n",
       "IDclaim      0\n",
       "Guarantee    0\n",
       "dtype: int64"
      ]
     },
     "execution_count": 17,
     "metadata": {},
     "output_type": "execute_result"
    }
   ],
   "source": [
    "\n",
    "sev.isna().sum()\n",
    "#sev.isna().sum().sum()"
   ]
  },
  {
   "attachments": {},
   "cell_type": "markdown",
   "id": "4a019038",
   "metadata": {},
   "source": [
    "Base freq"
   ]
  },
  {
   "cell_type": "code",
   "execution_count": 18,
   "id": "166de318",
   "metadata": {},
   "outputs": [
    {
     "data": {
      "text/plain": [
       "IDpol         0\n",
       "Year          0\n",
       "Damage        0\n",
       "Fire          0\n",
       "Other         0\n",
       "Theft         0\n",
       "TPL           0\n",
       "Windscreen    0\n",
       "dtype: int64"
      ]
     },
     "execution_count": 18,
     "metadata": {},
     "output_type": "execute_result"
    }
   ],
   "source": [
    "freq.isna().sum()"
   ]
  },
  {
   "attachments": {},
   "cell_type": "markdown",
   "id": "b62c724e",
   "metadata": {},
   "source": [
    "Base Prem"
   ]
  },
  {
   "cell_type": "code",
   "execution_count": 19,
   "id": "77534c89",
   "metadata": {},
   "outputs": [
    {
     "data": {
      "text/html": [
       "<div>\n",
       "<style scoped>\n",
       "    .dataframe tbody tr th:only-of-type {\n",
       "        vertical-align: middle;\n",
       "    }\n",
       "\n",
       "    .dataframe tbody tr th {\n",
       "        vertical-align: top;\n",
       "    }\n",
       "\n",
       "    .dataframe thead th {\n",
       "        text-align: right;\n",
       "    }\n",
       "</style>\n",
       "<table border=\"1\" class=\"dataframe\">\n",
       "  <thead>\n",
       "    <tr style=\"text-align: right;\">\n",
       "      <th></th>\n",
       "      <th>Year</th>\n",
       "      <th>DrivAge</th>\n",
       "      <th>BonusMalus</th>\n",
       "      <th>LicenceNb</th>\n",
       "      <th>VehAge</th>\n",
       "      <th>PremWindscreen</th>\n",
       "      <th>PremDamAll</th>\n",
       "      <th>PremFire</th>\n",
       "      <th>PremAcc1</th>\n",
       "      <th>PremAcc2</th>\n",
       "      <th>PremLegal</th>\n",
       "      <th>PremTPLM</th>\n",
       "      <th>PremTPLV</th>\n",
       "      <th>PremServ</th>\n",
       "      <th>PremTheft</th>\n",
       "      <th>PremTot</th>\n",
       "    </tr>\n",
       "  </thead>\n",
       "  <tbody>\n",
       "    <tr>\n",
       "      <th>4533</th>\n",
       "      <td>2004</td>\n",
       "      <td>44</td>\n",
       "      <td>50.0</td>\n",
       "      <td>3</td>\n",
       "      <td>10.0</td>\n",
       "      <td>16</td>\n",
       "      <td>0</td>\n",
       "      <td>0</td>\n",
       "      <td>0</td>\n",
       "      <td>0</td>\n",
       "      <td>7</td>\n",
       "      <td>75.3</td>\n",
       "      <td>4</td>\n",
       "      <td>55</td>\n",
       "      <td>0</td>\n",
       "      <td>157.3</td>\n",
       "    </tr>\n",
       "    <tr>\n",
       "      <th>8368</th>\n",
       "      <td>2003</td>\n",
       "      <td>44</td>\n",
       "      <td>50.0</td>\n",
       "      <td>3</td>\n",
       "      <td>10.0</td>\n",
       "      <td>15</td>\n",
       "      <td>0</td>\n",
       "      <td>0</td>\n",
       "      <td>0</td>\n",
       "      <td>0</td>\n",
       "      <td>6</td>\n",
       "      <td>69.1</td>\n",
       "      <td>4</td>\n",
       "      <td>50</td>\n",
       "      <td>0</td>\n",
       "      <td>144.1</td>\n",
       "    </tr>\n",
       "    <tr>\n",
       "      <th>1013</th>\n",
       "      <td>2003</td>\n",
       "      <td>26</td>\n",
       "      <td>85.0</td>\n",
       "      <td>2</td>\n",
       "      <td>8.0</td>\n",
       "      <td>16</td>\n",
       "      <td>0</td>\n",
       "      <td>0</td>\n",
       "      <td>0</td>\n",
       "      <td>0</td>\n",
       "      <td>7</td>\n",
       "      <td>139.3</td>\n",
       "      <td>7</td>\n",
       "      <td>46</td>\n",
       "      <td>0</td>\n",
       "      <td>215.3</td>\n",
       "    </tr>\n",
       "    <tr>\n",
       "      <th>3003</th>\n",
       "      <td>2004</td>\n",
       "      <td>26</td>\n",
       "      <td>85.0</td>\n",
       "      <td>2</td>\n",
       "      <td>8.0</td>\n",
       "      <td>19</td>\n",
       "      <td>0</td>\n",
       "      <td>0</td>\n",
       "      <td>0</td>\n",
       "      <td>0</td>\n",
       "      <td>8</td>\n",
       "      <td>168.5</td>\n",
       "      <td>9</td>\n",
       "      <td>56</td>\n",
       "      <td>0</td>\n",
       "      <td>260.5</td>\n",
       "    </tr>\n",
       "    <tr>\n",
       "      <th>3605</th>\n",
       "      <td>2003</td>\n",
       "      <td>26</td>\n",
       "      <td>106.0</td>\n",
       "      <td>2</td>\n",
       "      <td>9.0</td>\n",
       "      <td>34</td>\n",
       "      <td>0</td>\n",
       "      <td>0</td>\n",
       "      <td>0</td>\n",
       "      <td>0</td>\n",
       "      <td>11</td>\n",
       "      <td>283.0</td>\n",
       "      <td>15</td>\n",
       "      <td>57</td>\n",
       "      <td>0</td>\n",
       "      <td>400.0</td>\n",
       "    </tr>\n",
       "    <tr>\n",
       "      <th>...</th>\n",
       "      <td>...</td>\n",
       "      <td>...</td>\n",
       "      <td>...</td>\n",
       "      <td>...</td>\n",
       "      <td>...</td>\n",
       "      <td>...</td>\n",
       "      <td>...</td>\n",
       "      <td>...</td>\n",
       "      <td>...</td>\n",
       "      <td>...</td>\n",
       "      <td>...</td>\n",
       "      <td>...</td>\n",
       "      <td>...</td>\n",
       "      <td>...</td>\n",
       "      <td>...</td>\n",
       "      <td>...</td>\n",
       "    </tr>\n",
       "    <tr>\n",
       "      <th>4816</th>\n",
       "      <td>2004</td>\n",
       "      <td>38</td>\n",
       "      <td>112.0</td>\n",
       "      <td>1</td>\n",
       "      <td>9.0</td>\n",
       "      <td>0</td>\n",
       "      <td>0</td>\n",
       "      <td>0</td>\n",
       "      <td>0</td>\n",
       "      <td>55</td>\n",
       "      <td>13</td>\n",
       "      <td>356.6</td>\n",
       "      <td>19</td>\n",
       "      <td>60</td>\n",
       "      <td>0</td>\n",
       "      <td>503.6</td>\n",
       "    </tr>\n",
       "    <tr>\n",
       "      <th>20639</th>\n",
       "      <td>2004</td>\n",
       "      <td>38</td>\n",
       "      <td>118.0</td>\n",
       "      <td>1</td>\n",
       "      <td>6.0</td>\n",
       "      <td>102</td>\n",
       "      <td>0</td>\n",
       "      <td>22</td>\n",
       "      <td>0</td>\n",
       "      <td>60</td>\n",
       "      <td>17</td>\n",
       "      <td>521.5</td>\n",
       "      <td>27</td>\n",
       "      <td>60</td>\n",
       "      <td>250</td>\n",
       "      <td>1059.5</td>\n",
       "    </tr>\n",
       "    <tr>\n",
       "      <th>20885</th>\n",
       "      <td>2003</td>\n",
       "      <td>38</td>\n",
       "      <td>112.0</td>\n",
       "      <td>1</td>\n",
       "      <td>6.0</td>\n",
       "      <td>117</td>\n",
       "      <td>0</td>\n",
       "      <td>20</td>\n",
       "      <td>0</td>\n",
       "      <td>61</td>\n",
       "      <td>19</td>\n",
       "      <td>525.1</td>\n",
       "      <td>27</td>\n",
       "      <td>62</td>\n",
       "      <td>193</td>\n",
       "      <td>1024.1</td>\n",
       "    </tr>\n",
       "    <tr>\n",
       "      <th>37807</th>\n",
       "      <td>2004</td>\n",
       "      <td>26</td>\n",
       "      <td>90.0</td>\n",
       "      <td>1</td>\n",
       "      <td>8.0</td>\n",
       "      <td>44</td>\n",
       "      <td>0</td>\n",
       "      <td>10</td>\n",
       "      <td>0</td>\n",
       "      <td>56</td>\n",
       "      <td>17</td>\n",
       "      <td>379.1</td>\n",
       "      <td>20</td>\n",
       "      <td>56</td>\n",
       "      <td>102</td>\n",
       "      <td>684.1</td>\n",
       "    </tr>\n",
       "    <tr>\n",
       "      <th>47307</th>\n",
       "      <td>2003</td>\n",
       "      <td>26</td>\n",
       "      <td>95.0</td>\n",
       "      <td>1</td>\n",
       "      <td>8.0</td>\n",
       "      <td>45</td>\n",
       "      <td>0</td>\n",
       "      <td>10</td>\n",
       "      <td>0</td>\n",
       "      <td>54</td>\n",
       "      <td>16</td>\n",
       "      <td>392.0</td>\n",
       "      <td>21</td>\n",
       "      <td>52</td>\n",
       "      <td>117</td>\n",
       "      <td>707.0</td>\n",
       "    </tr>\n",
       "  </tbody>\n",
       "</table>\n",
       "<p>52372 rows × 16 columns</p>\n",
       "</div>"
      ],
      "text/plain": [
       "       Year  DrivAge  BonusMalus  LicenceNb  VehAge  PremWindscreen  \\\n",
       "4533   2004       44        50.0          3    10.0              16   \n",
       "8368   2003       44        50.0          3    10.0              15   \n",
       "1013   2003       26        85.0          2     8.0              16   \n",
       "3003   2004       26        85.0          2     8.0              19   \n",
       "3605   2003       26       106.0          2     9.0              34   \n",
       "...     ...      ...         ...        ...     ...             ...   \n",
       "4816   2004       38       112.0          1     9.0               0   \n",
       "20639  2004       38       118.0          1     6.0             102   \n",
       "20885  2003       38       112.0          1     6.0             117   \n",
       "37807  2004       26        90.0          1     8.0              44   \n",
       "47307  2003       26        95.0          1     8.0              45   \n",
       "\n",
       "       PremDamAll  PremFire  PremAcc1  PremAcc2  PremLegal  PremTPLM  \\\n",
       "4533            0         0         0         0          7      75.3   \n",
       "8368            0         0         0         0          6      69.1   \n",
       "1013            0         0         0         0          7     139.3   \n",
       "3003            0         0         0         0          8     168.5   \n",
       "3605            0         0         0         0         11     283.0   \n",
       "...           ...       ...       ...       ...        ...       ...   \n",
       "4816            0         0         0        55         13     356.6   \n",
       "20639           0        22         0        60         17     521.5   \n",
       "20885           0        20         0        61         19     525.1   \n",
       "37807           0        10         0        56         17     379.1   \n",
       "47307           0        10         0        54         16     392.0   \n",
       "\n",
       "       PremTPLV  PremServ  PremTheft  PremTot  \n",
       "4533          4        55          0    157.3  \n",
       "8368          4        50          0    144.1  \n",
       "1013          7        46          0    215.3  \n",
       "3003          9        56          0    260.5  \n",
       "3605         15        57          0    400.0  \n",
       "...         ...       ...        ...      ...  \n",
       "4816         19        60          0    503.6  \n",
       "20639        27        60        250   1059.5  \n",
       "20885        27        62        193   1024.1  \n",
       "37807        20        56        102    684.1  \n",
       "47307        21        52        117    707.0  \n",
       "\n",
       "[52372 rows x 16 columns]"
      ]
     },
     "execution_count": 19,
     "metadata": {},
     "output_type": "execute_result"
    }
   ],
   "source": [
    "# only quantitative variables\n",
    "prem.select_dtypes(exclude='object')"
   ]
  },
  {
   "cell_type": "code",
   "execution_count": 20,
   "id": "8ef53b57",
   "metadata": {},
   "outputs": [
    {
     "data": {
      "text/plain": [
       "Index(['IDpol', 'Year', 'DrivAge', 'DrivGender', 'MaritalStatus', 'BonusMalus',\n",
       "       'LicenceNb', 'PayFreq', 'JobCode', 'VehAge', 'VehClass', 'VehPower',\n",
       "       'VehGas', 'VehUsage', 'Garage', 'Area', 'Region', 'Channel',\n",
       "       'Marketing', 'PremWindscreen', 'PremDamAll', 'PremFire', 'PremAcc1',\n",
       "       'PremAcc2', 'PremLegal', 'PremTPLM', 'PremTPLV', 'PremServ',\n",
       "       'PremTheft', 'PremTot'],\n",
       "      dtype='object')"
      ]
     },
     "execution_count": 20,
     "metadata": {},
     "output_type": "execute_result"
    }
   ],
   "source": [
    "# Extract all column headings\n",
    "Columns_prem = prem.columns\n",
    "Columns_prem"
   ]
  },
  {
   "cell_type": "code",
   "execution_count": 21,
   "id": "8ccae8cc",
   "metadata": {},
   "outputs": [
    {
     "data": {
      "text/plain": [
       "[Index(['Year', 'DrivAge', 'BonusMalus', 'LicenceNb', 'VehAge',\n",
       "        'PremWindscreen', 'PremDamAll', 'PremFire', 'PremAcc1', 'PremAcc2',\n",
       "        'PremLegal', 'PremTPLM', 'PremTPLV', 'PremServ', 'PremTheft',\n",
       "        'PremTot'],\n",
       "       dtype='object')]"
      ]
     },
     "execution_count": 21,
     "metadata": {},
     "output_type": "execute_result"
    }
   ],
   "source": [
    "# Select only quantitative columns and create a list at the same time\n",
    "Columns_prem2 = [prem.select_dtypes(exclude='object').columns]\n",
    "Columns_prem2"
   ]
  },
  {
   "cell_type": "code",
   "execution_count": 22,
   "id": "f5ab75c4",
   "metadata": {},
   "outputs": [],
   "source": [
    "#transform as a list\n",
    "\n",
    "variab_in_prem = []\n",
    "for element in Columns_prem :\n",
    "    variab_in_prem.append(element)"
   ]
  },
  {
   "cell_type": "code",
   "execution_count": 23,
   "id": "0f8fc6bd",
   "metadata": {},
   "outputs": [
    {
     "data": {
      "text/plain": [
       "['IDpol',\n",
       " 'Year',\n",
       " 'DrivAge',\n",
       " 'DrivGender',\n",
       " 'MaritalStatus',\n",
       " 'BonusMalus',\n",
       " 'LicenceNb',\n",
       " 'PayFreq',\n",
       " 'JobCode',\n",
       " 'VehAge',\n",
       " 'VehClass',\n",
       " 'VehPower',\n",
       " 'VehGas',\n",
       " 'VehUsage',\n",
       " 'Garage',\n",
       " 'Area',\n",
       " 'Region',\n",
       " 'Channel',\n",
       " 'Marketing',\n",
       " 'PremWindscreen',\n",
       " 'PremDamAll',\n",
       " 'PremFire',\n",
       " 'PremAcc1',\n",
       " 'PremAcc2',\n",
       " 'PremLegal',\n",
       " 'PremTPLM',\n",
       " 'PremTPLV',\n",
       " 'PremServ',\n",
       " 'PremTheft',\n",
       " 'PremTot']"
      ]
     },
     "execution_count": 23,
     "metadata": {},
     "output_type": "execute_result"
    }
   ],
   "source": [
    "variab_in_prem"
   ]
  },
  {
   "cell_type": "code",
   "execution_count": 24,
   "id": "0b2a20ba",
   "metadata": {},
   "outputs": [],
   "source": [
    "# transform as a list only quantitative variables with a FOR loop\n",
    "\n",
    "variab_in_prem2 = []\n",
    "for element in prem.select_dtypes(exclude='object').columns :\n",
    "    variab_in_prem2.append(element)"
   ]
  },
  {
   "cell_type": "code",
   "execution_count": 25,
   "id": "511d80dc",
   "metadata": {},
   "outputs": [
    {
     "data": {
      "text/plain": [
       "['Year',\n",
       " 'DrivAge',\n",
       " 'BonusMalus',\n",
       " 'LicenceNb',\n",
       " 'VehAge',\n",
       " 'PremWindscreen',\n",
       " 'PremDamAll',\n",
       " 'PremFire',\n",
       " 'PremAcc1',\n",
       " 'PremAcc2',\n",
       " 'PremLegal',\n",
       " 'PremTPLM',\n",
       " 'PremTPLV',\n",
       " 'PremServ',\n",
       " 'PremTheft',\n",
       " 'PremTot']"
      ]
     },
     "execution_count": 25,
     "metadata": {},
     "output_type": "execute_result"
    }
   ],
   "source": [
    "variab_in_prem2"
   ]
  },
  {
   "cell_type": "code",
   "execution_count": 26,
   "id": "79ef311f",
   "metadata": {},
   "outputs": [
    {
     "data": {
      "text/plain": [
       "IDpol                 0\n",
       "Year                  0\n",
       "DrivAge               0\n",
       "DrivGender            0\n",
       "MaritalStatus     35252\n",
       "BonusMalus          176\n",
       "LicenceNb             0\n",
       "PayFreq               0\n",
       "JobCode           35252\n",
       "VehAge              485\n",
       "VehClass              0\n",
       "VehPower              8\n",
       "VehGas              163\n",
       "VehUsage            128\n",
       "Garage                0\n",
       "Area                  0\n",
       "Region                0\n",
       "Channel           35952\n",
       "Marketing             0\n",
       "PremWindscreen        0\n",
       "PremDamAll            0\n",
       "PremFire              0\n",
       "PremAcc1              0\n",
       "PremAcc2              0\n",
       "PremLegal             0\n",
       "PremTPLM              0\n",
       "PremTPLV              0\n",
       "PremServ              0\n",
       "PremTheft             0\n",
       "PremTot               0\n",
       "dtype: int64"
      ]
     },
     "execution_count": 26,
     "metadata": {},
     "output_type": "execute_result"
    }
   ],
   "source": [
    "\n",
    "prem.isna().sum()\n",
    "\n",
    "# Variables with Missing data\n",
    "\n",
    "# MaritalStatus 17120 object +\n",
    "# BonusMalus    52196 float64 \n",
    "# JobCode       17120 object +\n",
    "# VehAge        51887 float64\n",
    "# VehPower      52364 object \n",
    "# VehGas        52209 object \n",
    "# VehUsage      52244 object \n",
    "# Channel       16420 object +\n",
    "\n",
    "# \"+\" Sucepptibles to remove"
   ]
  },
  {
   "cell_type": "code",
   "execution_count": 27,
   "id": "a4ef10a8",
   "metadata": {},
   "outputs": [
    {
     "data": {
      "text/plain": [
       "107416"
      ]
     },
     "execution_count": 27,
     "metadata": {},
     "output_type": "execute_result"
    }
   ],
   "source": [
    "# The sum of all DMs\n",
    "\n",
    "prem.isna().sum().sum()\n"
   ]
  },
  {
   "cell_type": "code",
   "execution_count": 28,
   "id": "0167f867",
   "metadata": {},
   "outputs": [
    {
     "data": {
      "text/plain": [
       "52372"
      ]
     },
     "execution_count": 28,
     "metadata": {},
     "output_type": "execute_result"
    }
   ],
   "source": [
    "len(prem)"
   ]
  },
  {
   "cell_type": "code",
   "execution_count": 29,
   "id": "ed08746c",
   "metadata": {},
   "outputs": [
    {
     "data": {
      "text/plain": [
       "0.6731077675093562"
      ]
     },
     "execution_count": 29,
     "metadata": {},
     "output_type": "execute_result"
    }
   ],
   "source": [
    "# calculating missing data in % of the MaritalStatus variable\n",
    "\n",
    "poids = (len(prem) - prem.MaritalStatus.count()) / len(prem)\n",
    "poids"
   ]
  },
  {
   "cell_type": "code",
   "execution_count": 30,
   "id": "dfd5c1bd",
   "metadata": {},
   "outputs": [
    {
     "name": "stdout",
     "output_type": "stream",
     "text": [
      "0.0\n",
      "0.0\n",
      "0.0\n",
      "0.0\n",
      "0.6731077675093562\n",
      "0.0033605743527075536\n",
      "0.0\n",
      "0.0\n",
      "0.6731077675093562\n",
      "0.009260673642404339\n",
      "0.0\n",
      "0.00015275337966852515\n",
      "0.0031123501107462002\n",
      "0.0024440540746964025\n",
      "0.0\n",
      "0.0\n",
      "0.0\n",
      "0.686473688230352\n",
      "0.0\n",
      "0.0\n",
      "0.0\n",
      "0.0\n",
      "0.0\n",
      "0.0\n",
      "0.0\n",
      "0.0\n",
      "0.0\n",
      "0.0\n",
      "0.0\n",
      "0.0\n"
     ]
    }
   ],
   "source": [
    "# calculate missing data in % of all columns\n",
    "for element in prem.columns :\n",
    "    print((len(prem) - prem[element].count()) / len (prem) )"
   ]
  },
  {
   "cell_type": "code",
   "execution_count": 31,
   "id": "bc00632e",
   "metadata": {},
   "outputs": [
    {
     "name": "stdout",
     "output_type": "stream",
     "text": [
      "MaritalStatus : 67.311\n",
      "BonusMalus : 0.336\n",
      "JobCode : 67.311\n",
      "VehAge : 0.926\n",
      "VehPower : 0.015\n",
      "VehGas : 0.311\n",
      "VehUsage : 0.244\n",
      "Channel : 68.647\n"
     ]
    }
   ],
   "source": [
    "# calculate missing data in % as columns con NaN. reference value 52372\n",
    "\n",
    "lista = []\n",
    "for element in prem.columns :\n",
    "    if prem[element].count() < len(prem) :\n",
    "        lista.append(element)\n",
    "        print(prem[element].name + \" : \" + str (round(((len(prem) - prem[element].count()) / len (prem))*100,3)))\n",
    "    "
   ]
  },
  {
   "cell_type": "code",
   "execution_count": 32,
   "id": "8f0e46a6",
   "metadata": {},
   "outputs": [
    {
     "data": {
      "text/plain": [
       "['MaritalStatus',\n",
       " 'BonusMalus',\n",
       " 'JobCode',\n",
       " 'VehAge',\n",
       " 'VehPower',\n",
       " 'VehGas',\n",
       " 'VehUsage',\n",
       " 'Channel']"
      ]
     },
     "execution_count": 32,
     "metadata": {},
     "output_type": "execute_result"
    }
   ],
   "source": [
    "lista"
   ]
  },
  {
   "cell_type": "code",
   "execution_count": 33,
   "id": "607d2e6a",
   "metadata": {},
   "outputs": [
    {
     "data": {
      "text/plain": [
       "NaN           35252\n",
       "Cohabiting    10748\n",
       "Married        3586\n",
       "Single         2051\n",
       "Widowed         546\n",
       "Divorced        189\n",
       "Name: MaritalStatus, dtype: int64"
      ]
     },
     "execution_count": 33,
     "metadata": {},
     "output_type": "execute_result"
    }
   ],
   "source": [
    "# MaritalStatus values\n",
    "prem[\"MaritalStatus\"].value_counts(dropna=False)"
   ]
  },
  {
   "cell_type": "code",
   "execution_count": 34,
   "id": "2e017591",
   "metadata": {},
   "outputs": [],
   "source": [
    "#Remove 3 columns with NaN by +60%\n",
    "prem_ssDM=prem.drop(['MaritalStatus','JobCode','Channel'], axis=1) \n"
   ]
  },
  {
   "cell_type": "code",
   "execution_count": 35,
   "id": "8791f82a",
   "metadata": {},
   "outputs": [
    {
     "name": "stdout",
     "output_type": "stream",
     "text": [
      "NaN           35252\n",
      "Cohabiting    10748\n",
      "Married        3586\n",
      "Single         2051\n",
      "Widowed         546\n",
      "Divorced        189\n",
      "Name: MaritalStatus, dtype: int64\n",
      "50.0     19866\n",
      "80.0      2526\n",
      "85.0      2441\n",
      "64.0      2405\n",
      "60.0      2400\n",
      "         ...  \n",
      "108.0        2\n",
      "89.0         2\n",
      "145.0        2\n",
      "126.0        1\n",
      "99.0         1\n",
      "Name: BonusMalus, Length: 69, dtype: int64\n",
      "NaN                 35252\n",
      "Private employee     9202\n",
      "Public employee      5085\n",
      "Retiree              1040\n",
      "Other                 865\n",
      "Craftsman             643\n",
      "Farmer                259\n",
      "Retailer               26\n",
      "Name: JobCode, dtype: int64\n",
      "7.0     4822\n",
      "8.0     4538\n",
      "6.0     4285\n",
      "5.0     4139\n",
      "9.0     4050\n",
      "4.0     3519\n",
      "10.0    3386\n",
      "2.0     3329\n",
      "3.0     3049\n",
      "1.0     2812\n",
      "11.0    2795\n",
      "12.0    2319\n",
      "13.0    1899\n",
      "0.0     1708\n",
      "14.0    1586\n",
      "15.0    1144\n",
      "16.0     743\n",
      "NaN      485\n",
      "17.0     428\n",
      "18.0     313\n",
      "19.0     262\n",
      "20.0     182\n",
      "21.0     102\n",
      "22.0      87\n",
      "23.0      82\n",
      "24.0      77\n",
      "26.0      54\n",
      "25.0      41\n",
      "27.0      35\n",
      "29.0      19\n",
      "30.0      12\n",
      "28.0      11\n",
      "32.0       8\n",
      "33.0       8\n",
      "31.0       7\n",
      "42.0       4\n",
      "35.0       4\n",
      "34.0       4\n",
      "78.0       3\n",
      "41.0       3\n",
      "44.0       3\n",
      "39.0       3\n",
      "38.0       2\n",
      "79.0       2\n",
      "89.0       2\n",
      "60.0       2\n",
      "77.0       1\n",
      "40.0       1\n",
      "68.0       1\n",
      "69.0       1\n",
      "Name: VehAge, dtype: int64\n",
      "P10    9218\n",
      "P12    8415\n",
      "P11    8385\n",
      "P9     6732\n",
      "P13    6656\n",
      "P8     5224\n",
      "P14    3805\n",
      "P15    1519\n",
      "P7      953\n",
      "P16     729\n",
      "P5      605\n",
      "P17      58\n",
      "P4       48\n",
      "P2       15\n",
      "NaN       8\n",
      "P6        2\n",
      "Name: VehPower, dtype: int64\n",
      "Regular    31483\n",
      "Diesel     19647\n",
      "Gazole      1079\n",
      "NaN          163\n",
      "Name: VehGas, dtype: int64\n",
      "Private+trip to office    50722\n",
      "Professional               1097\n",
      "Professional run            425\n",
      "NaN                         128\n",
      "Name: VehUsage, dtype: int64\n",
      "NaN    35952\n",
      "A       9472\n",
      "L       4996\n",
      "B       1952\n",
      "Name: Channel, dtype: int64\n"
     ]
    }
   ],
   "source": [
    "# column values with observations < a 52372\n",
    "Col_DM = []\n",
    "for element in prem.columns :\n",
    "    if prem[element].count() < len(prem) :\n",
    "        Col_DM.append(element)\n",
    "        print(prem[element].value_counts(dropna= False))"
   ]
  },
  {
   "cell_type": "code",
   "execution_count": 36,
   "id": "d00d2a52",
   "metadata": {},
   "outputs": [
    {
     "data": {
      "text/plain": [
       "['MaritalStatus',\n",
       " 'BonusMalus',\n",
       " 'JobCode',\n",
       " 'VehAge',\n",
       " 'VehPower',\n",
       " 'VehGas',\n",
       " 'VehUsage',\n",
       " 'Channel']"
      ]
     },
     "execution_count": 36,
     "metadata": {},
     "output_type": "execute_result"
    }
   ],
   "source": [
    "Col_DM"
   ]
  },
  {
   "attachments": {},
   "cell_type": "markdown",
   "id": "257ab100",
   "metadata": {},
   "source": [
    "Complete missing data"
   ]
  },
  {
   "cell_type": "code",
   "execution_count": 37,
   "id": "194f1160",
   "metadata": {},
   "outputs": [
    {
     "data": {
      "text/plain": [
       "Private+trip to office    50722\n",
       "Professional               1097\n",
       "Professional run            425\n",
       "Name: VehUsage, dtype: int64"
      ]
     },
     "execution_count": 37,
     "metadata": {},
     "output_type": "execute_result"
    }
   ],
   "source": [
    "prem['VehUsage'].value_counts()"
   ]
  },
  {
   "cell_type": "code",
   "execution_count": 38,
   "id": "95176317",
   "metadata": {},
   "outputs": [
    {
     "data": {
      "text/plain": [
       "0    Private+trip to office\n",
       "Name: VehUsage, dtype: object"
      ]
     },
     "execution_count": 38,
     "metadata": {},
     "output_type": "execute_result"
    }
   ],
   "source": [
    "prem.VehUsage.mode()\n",
    "# Identify the mode"
   ]
  },
  {
   "cell_type": "code",
   "execution_count": 39,
   "id": "01317b93",
   "metadata": {},
   "outputs": [],
   "source": [
    "prem_ssDM.VehUsage = prem_ssDM.VehUsage.fillna(prem.VehUsage.mode()[0]) \n",
    "# replacement by mode"
   ]
  },
  {
   "cell_type": "code",
   "execution_count": 40,
   "id": "448c1ff8",
   "metadata": {},
   "outputs": [
    {
     "data": {
      "text/plain": [
       "Private+trip to office    50850\n",
       "Professional               1097\n",
       "Professional run            425\n",
       "Name: VehUsage, dtype: int64"
      ]
     },
     "execution_count": 40,
     "metadata": {},
     "output_type": "execute_result"
    }
   ],
   "source": [
    "# VehUsage modificated\n",
    "prem_ssDM['VehUsage'].value_counts()"
   ]
  },
  {
   "cell_type": "code",
   "execution_count": 41,
   "id": "2ff9a90c",
   "metadata": {},
   "outputs": [
    {
     "data": {
      "text/plain": [
       "0"
      ]
     },
     "execution_count": 41,
     "metadata": {},
     "output_type": "execute_result"
    }
   ],
   "source": [
    "prem_ssDM['VehUsage'].isna().sum()"
   ]
  },
  {
   "cell_type": "code",
   "execution_count": 42,
   "id": "e8db5c60",
   "metadata": {},
   "outputs": [
    {
     "data": {
      "text/plain": [
       "count    51887.000000\n",
       "mean         7.525238\n",
       "std          4.776407\n",
       "min          0.000000\n",
       "25%          4.000000\n",
       "50%          7.000000\n",
       "75%         10.000000\n",
       "max         89.000000\n",
       "Name: VehAge, dtype: float64"
      ]
     },
     "execution_count": 42,
     "metadata": {},
     "output_type": "execute_result"
    }
   ],
   "source": [
    "prem_ssDM.VehAge.describe() "
   ]
  },
  {
   "cell_type": "code",
   "execution_count": 43,
   "id": "9d448a0a",
   "metadata": {},
   "outputs": [],
   "source": [
    "\n",
    "prem_ssDM.VehAge = prem_ssDM.VehAge.fillna(prem_ssDM.VehAge.mean()) \n",
    "#replacement by average\n",
    "\n",
    "#prem_ssDM.VehAge = prem_ssDM.VehAge.fillna(prem_ssDM.VehAge.mode()[0]) "
   ]
  },
  {
   "cell_type": "code",
   "execution_count": 44,
   "id": "330dbd5e",
   "metadata": {},
   "outputs": [
    {
     "data": {
      "text/plain": [
       "0"
      ]
     },
     "execution_count": 44,
     "metadata": {},
     "output_type": "execute_result"
    }
   ],
   "source": [
    "# VehAge modificated\n",
    "prem_ssDM['VehAge'].isna().sum()"
   ]
  },
  {
   "cell_type": "code",
   "execution_count": 45,
   "id": "9003d8cb",
   "metadata": {},
   "outputs": [
    {
     "data": {
      "text/plain": [
       "8"
      ]
     },
     "execution_count": 45,
     "metadata": {},
     "output_type": "execute_result"
    }
   ],
   "source": [
    "prem_ssDM['VehPower'].isna().sum()"
   ]
  },
  {
   "cell_type": "code",
   "execution_count": 46,
   "id": "eb61ae14",
   "metadata": {},
   "outputs": [
    {
     "data": {
      "text/plain": [
       "P10    9218\n",
       "P12    8415\n",
       "P11    8385\n",
       "P9     6732\n",
       "P13    6656\n",
       "P8     5224\n",
       "P14    3805\n",
       "P15    1519\n",
       "P7      953\n",
       "P16     729\n",
       "P5      605\n",
       "P17      58\n",
       "P4       48\n",
       "P2       15\n",
       "P6        2\n",
       "Name: VehPower, dtype: int64"
      ]
     },
     "execution_count": 46,
     "metadata": {},
     "output_type": "execute_result"
    }
   ],
   "source": [
    "prem_ssDM['VehPower'].value_counts()"
   ]
  },
  {
   "cell_type": "code",
   "execution_count": 47,
   "id": "21fc3714",
   "metadata": {},
   "outputs": [],
   "source": [
    "prem_ssDM.VehPower = prem_ssDM.VehPower.fillna(prem_ssDM.VehPower.mode()[0]) \n",
    "# Imputation by mode in VehPower column"
   ]
  },
  {
   "cell_type": "code",
   "execution_count": 48,
   "id": "e9d24777",
   "metadata": {},
   "outputs": [
    {
     "data": {
      "text/plain": [
       "Regular    31483\n",
       "Diesel     19647\n",
       "Gazole      1079\n",
       "Name: VehGas, dtype: int64"
      ]
     },
     "execution_count": 48,
     "metadata": {},
     "output_type": "execute_result"
    }
   ],
   "source": [
    "prem_ssDM[\"VehGas\"].value_counts()"
   ]
  },
  {
   "cell_type": "code",
   "execution_count": 49,
   "id": "da7c4761",
   "metadata": {},
   "outputs": [
    {
     "data": {
      "text/plain": [
       "0"
      ]
     },
     "execution_count": 49,
     "metadata": {},
     "output_type": "execute_result"
    }
   ],
   "source": [
    "prem_ssDM['VehPower'].isna().sum()"
   ]
  },
  {
   "cell_type": "code",
   "execution_count": 50,
   "id": "21396206",
   "metadata": {},
   "outputs": [
    {
     "data": {
      "text/plain": [
       "163"
      ]
     },
     "execution_count": 50,
     "metadata": {},
     "output_type": "execute_result"
    }
   ],
   "source": [
    "prem_ssDM['VehGas'].isna().sum()"
   ]
  },
  {
   "cell_type": "code",
   "execution_count": 51,
   "id": "b288755c",
   "metadata": {},
   "outputs": [],
   "source": [
    "# # Imputation by mode in VehGas column \n",
    "prem_ssDM.VehGas = prem_ssDM.VehGas.fillna(prem_ssDM.VehGas.mode()[0]) "
   ]
  },
  {
   "cell_type": "code",
   "execution_count": 52,
   "id": "8c17f42d",
   "metadata": {},
   "outputs": [
    {
     "data": {
      "text/plain": [
       "0"
      ]
     },
     "execution_count": 52,
     "metadata": {},
     "output_type": "execute_result"
    }
   ],
   "source": [
    "prem_ssDM['VehGas'].isna().sum()"
   ]
  },
  {
   "cell_type": "code",
   "execution_count": 53,
   "id": "f1d46eb0",
   "metadata": {},
   "outputs": [],
   "source": [
    "#prem_ssDM.dtypes"
   ]
  },
  {
   "cell_type": "code",
   "execution_count": 54,
   "id": "663848f6",
   "metadata": {},
   "outputs": [],
   "source": [
    "# Analisis BonusMalus\n",
    "\n",
    "# identification of a correlation in order to make an imputation by the conditional mean but no significant correlation\n",
    "\n",
    "import seaborn as sns\n"
   ]
  },
  {
   "cell_type": "code",
   "execution_count": 55,
   "id": "0abf9530",
   "metadata": {},
   "outputs": [
    {
     "data": {
      "image/png": "[encoded data removed]",
      "text/plain": [
       "<Figure size 640x480 with 2 Axes>"
      ]
     },
     "metadata": {},
     "output_type": "display_data"
    }
   ],
   "source": [
    "sns.heatmap(round(prem_ssDM.corr(method = \"kendall\"),1),annot=True,cmap='summer')\n",
    "plt.show()"
   ]
  },
  {
   "cell_type": "code",
   "execution_count": 56,
   "id": "75952cff",
   "metadata": {},
   "outputs": [
    {
     "data": {
      "image/png": "[encoded data removed]",
      "text/plain": [
       "<Figure size 640x480 with 1 Axes>"
      ]
     },
     "metadata": {},
     "output_type": "display_data"
    }
   ],
   "source": [
    "plt.scatter(prem_ssDM[\"BonusMalus\"],prem_ssDM[\"PremTPLM\"])\n",
    "plt.show()\n",
    "# no significant correlation"
   ]
  },
  {
   "cell_type": "code",
   "execution_count": 57,
   "id": "a1c231fe",
   "metadata": {},
   "outputs": [
    {
     "data": {
      "text/plain": [
       "array([[ 75.3,  69.1, 139.3, ..., 525.1, 379.1, 392. ]])"
      ]
     },
     "execution_count": 57,
     "metadata": {},
     "output_type": "execute_result"
    }
   ],
   "source": [
    "#we take the DriveAge,VehAge and BonusMalus variables to see if there is a correlation with a 3d graph\n",
    "\n",
    "DrivAge = np.array([prem_ssDM.PremTPLM])\n",
    "DrivAge"
   ]
  },
  {
   "cell_type": "code",
   "execution_count": 58,
   "id": "d9a0448f",
   "metadata": {},
   "outputs": [
    {
     "data": {
      "text/plain": [
       "array([[ 0,  0,  0, ..., 20, 10, 10]], dtype=int64)"
      ]
     },
     "execution_count": 58,
     "metadata": {},
     "output_type": "execute_result"
    }
   ],
   "source": [
    "VehAge = np.array([prem_ssDM.PremFire ])\n",
    "VehAge"
   ]
  },
  {
   "cell_type": "code",
   "execution_count": 59,
   "id": "454b4359",
   "metadata": {},
   "outputs": [
    {
     "data": {
      "text/plain": [
       "array([[ 50.,  50.,  85., ..., 112.,  90.,  95.]])"
      ]
     },
     "execution_count": 59,
     "metadata": {},
     "output_type": "execute_result"
    }
   ],
   "source": [
    "BonusMalus = np.array([prem_ssDM.BonusMalus])\n",
    "BonusMalus"
   ]
  },
  {
   "cell_type": "code",
   "execution_count": 60,
   "id": "5935035f",
   "metadata": {},
   "outputs": [],
   "source": [
    "#normalization of data for the graph\n",
    "\n",
    "from sklearn import preprocessing\n",
    "\n",
    "escalar = preprocessing.MinMaxScaler() \n",
    "DrivAge_escal= escalar.fit_transform(DrivAge)\n"
   ]
  },
  {
   "cell_type": "code",
   "execution_count": 61,
   "id": "ec3f199c",
   "metadata": {},
   "outputs": [],
   "source": [
    "escalar = preprocessing.MinMaxScaler()\n",
    "VehAge_escal= escalar.fit_transform(VehAge)\n"
   ]
  },
  {
   "cell_type": "code",
   "execution_count": null,
   "id": "9c9b9125",
   "metadata": {},
   "outputs": [],
   "source": [
    "escalar = preprocessing.MinMaxScaler()\n",
    "BonusMalus_escal= escalar.fit_transform(BonusMalus)"
   ]
  },
  {
   "cell_type": "code",
   "execution_count": 63,
   "id": "c475e386",
   "metadata": {},
   "outputs": [],
   "source": [
    "données = np.stack((DrivAge_escal,VehAge_escal,BonusMalus_escal)) #group the observations"
   ]
  },
  {
   "cell_type": "code",
   "execution_count": 64,
   "id": "cd4b7d52",
   "metadata": {},
   "outputs": [
    {
     "data": {
      "image/png": "[encoded data removed]",
      "text/plain": [
       "<Figure size 800x800 with 1 Axes>"
      ]
     },
     "metadata": {},
     "output_type": "display_data"
    }
   ],
   "source": [
    "fig = plt.figure(figsize=(8, 8))\n",
    "ax = fig.add_subplot(2, 2, 2, projection=\"3d\")\n",
    "\n",
    "ax.scatter(données.T[0], données.T[1], données.T[2],\n",
    "           marker=\"o\", c=\"purple\", s=600, alpha=0.25)\n",
    "ax.scatter(données.T[0], données.T[1], données.T[2],\n",
    "           marker=\".\", c=\"black\", s=100)\n",
    "\n",
    "ax.set_xlabel(\"PremTPLM\", fontsize=15, color=\"blue\")\n",
    "ax.set_ylabel(\"PremFire\", fontsize=15, color=\"blue\")\n",
    "ax.set_zlabel(\"BonusMalus\", fontsize=15, color=\"blue\")\n",
    "\n",
    "plt.show()\n",
    "\n",
    "# the graph does not show a cloud of points, so we cannot make an imputation by the method of K means"
   ]
  },
  {
   "cell_type": "code",
   "execution_count": 65,
   "id": "9e71f894",
   "metadata": {},
   "outputs": [],
   "source": [
    "# then as the kmeans method is not possible, we eliminate the rows with missing data\n",
    "prem_ssDM = prem_ssDM.dropna(subset=[\"BonusMalus\"])"
   ]
  },
  {
   "cell_type": "code",
   "execution_count": 66,
   "id": "efab88c2",
   "metadata": {},
   "outputs": [
    {
     "data": {
      "text/plain": [
       "IDpol             0\n",
       "Year              0\n",
       "DrivAge           0\n",
       "DrivGender        0\n",
       "BonusMalus        0\n",
       "LicenceNb         0\n",
       "PayFreq           0\n",
       "VehAge            0\n",
       "VehClass          0\n",
       "VehPower          0\n",
       "VehGas            0\n",
       "VehUsage          0\n",
       "Garage            0\n",
       "Area              0\n",
       "Region            0\n",
       "Marketing         0\n",
       "PremWindscreen    0\n",
       "PremDamAll        0\n",
       "PremFire          0\n",
       "PremAcc1          0\n",
       "PremAcc2          0\n",
       "PremLegal         0\n",
       "PremTPLM          0\n",
       "PremTPLV          0\n",
       "PremServ          0\n",
       "PremTheft         0\n",
       "PremTot           0\n",
       "dtype: int64"
      ]
     },
     "execution_count": 66,
     "metadata": {},
     "output_type": "execute_result"
    }
   ],
   "source": [
    "# base prope\n",
    "prem_ssDM.isna().sum()\n",
    "#prem_ssDM.isna().sum().sum()"
   ]
  },
  {
   "cell_type": "code",
   "execution_count": 67,
   "id": "487d1ea8",
   "metadata": {},
   "outputs": [
    {
     "name": "stdout",
     "output_type": "stream",
     "text": [
      "<class 'pandas.core.frame.DataFrame'>\n",
      "Int64Index: 52196 entries, 4533 to 47307\n",
      "Data columns (total 27 columns):\n",
      " #   Column          Non-Null Count  Dtype  \n",
      "---  ------          --------------  -----  \n",
      " 0   IDpol           52196 non-null  object \n",
      " 1   Year            52196 non-null  int64  \n",
      " 2   DrivAge         52196 non-null  int64  \n",
      " 3   DrivGender      52196 non-null  object \n",
      " 4   BonusMalus      52196 non-null  float64\n",
      " 5   LicenceNb       52196 non-null  int64  \n",
      " 6   PayFreq         52196 non-null  object \n",
      " 7   VehAge          52196 non-null  float64\n",
      " 8   VehClass        52196 non-null  object \n",
      " 9   VehPower        52196 non-null  object \n",
      " 10  VehGas          52196 non-null  object \n",
      " 11  VehUsage        52196 non-null  object \n",
      " 12  Garage          52196 non-null  object \n",
      " 13  Area            52196 non-null  object \n",
      " 14  Region          52196 non-null  object \n",
      " 15  Marketing       52196 non-null  object \n",
      " 16  PremWindscreen  52196 non-null  int64  \n",
      " 17  PremDamAll      52196 non-null  int64  \n",
      " 18  PremFire        52196 non-null  int64  \n",
      " 19  PremAcc1        52196 non-null  int64  \n",
      " 20  PremAcc2        52196 non-null  int64  \n",
      " 21  PremLegal       52196 non-null  int64  \n",
      " 22  PremTPLM        52196 non-null  float64\n",
      " 23  PremTPLV        52196 non-null  int64  \n",
      " 24  PremServ        52196 non-null  int64  \n",
      " 25  PremTheft       52196 non-null  int64  \n",
      " 26  PremTot         52196 non-null  float64\n",
      "dtypes: float64(4), int64(12), object(11)\n",
      "memory usage: 11.2+ MB\n"
     ]
    }
   ],
   "source": [
    "prem_ssDM.info()"
   ]
  },
  {
   "attachments": {},
   "cell_type": "markdown",
   "id": "795183eb",
   "metadata": {},
   "source": [
    "# DI"
   ]
  },
  {
   "attachments": {},
   "cell_type": "markdown",
   "id": "6a2d2960",
   "metadata": {},
   "source": [
    "## Base Freq"
   ]
  },
  {
   "cell_type": "code",
   "execution_count": 68,
   "id": "69f27923",
   "metadata": {},
   "outputs": [
    {
     "name": "stdout",
     "output_type": "stream",
     "text": [
      "90146417.100a    2\n",
      "90156267.100a    2\n",
      "90156278.101b    2\n",
      "90156278.101a    2\n",
      "90156278.100b    2\n",
      "                ..\n",
      "90131616.100b    2\n",
      "90131616.100a    2\n",
      "90131615.101a    2\n",
      "90131615.100a    2\n",
      "1000419.101a     1\n",
      "Name: IDpol, Length: 32098, dtype: int64\n",
      "2004    32098\n",
      "2003    32097\n",
      "Name: Year, dtype: int64\n",
      "0    63257\n",
      "1      923\n",
      "2       15\n",
      "Name: Damage, dtype: int64\n",
      "0    64088\n",
      "1      107\n",
      "Name: Fire, dtype: int64\n",
      " 0    63926\n",
      " 1      213\n",
      "-1       56\n",
      "Name: Other, dtype: int64\n",
      "0    63627\n",
      "1      562\n",
      "2        5\n",
      "3        1\n",
      "Name: Theft, dtype: int64\n",
      "0    60180\n",
      "1     3836\n",
      "2      172\n",
      "3        6\n",
      "4        1\n",
      "Name: TPL, dtype: int64\n",
      "0    61077\n",
      "1     3041\n",
      "2       76\n",
      "3        1\n",
      "Name: Windscreen, dtype: int64\n"
     ]
    }
   ],
   "source": [
    "for element in freq.columns :\n",
    "    print(freq[element].value_counts())"
   ]
  },
  {
   "cell_type": "code",
   "execution_count": 69,
   "id": "2f82a252",
   "metadata": {},
   "outputs": [
    {
     "data": {
      "text/plain": [
       " 0    63926\n",
       " 1      213\n",
       "-1       56\n",
       "Name: Other, dtype: int64"
      ]
     },
     "execution_count": 69,
     "metadata": {},
     "output_type": "execute_result"
    }
   ],
   "source": [
    "# -1 is another inconsistent variable\n",
    "freq[\"Other\"].value_counts()"
   ]
  },
  {
   "cell_type": "code",
   "execution_count": 70,
   "id": "36f5f17f",
   "metadata": {},
   "outputs": [],
   "source": [
    "freq.Other.replace({-1: 1},inplace=True)"
   ]
  },
  {
   "cell_type": "code",
   "execution_count": 71,
   "id": "9278e80a",
   "metadata": {},
   "outputs": [
    {
     "data": {
      "text/plain": [
       "0    63926\n",
       "1      269\n",
       "Name: Other, dtype: int64"
      ]
     },
     "execution_count": 71,
     "metadata": {},
     "output_type": "execute_result"
    }
   ],
   "source": [
    "freq[\"Other\"].value_counts()"
   ]
  },
  {
   "attachments": {},
   "cell_type": "markdown",
   "id": "e424c22d",
   "metadata": {},
   "source": [
    "## Base Prem"
   ]
  },
  {
   "cell_type": "code",
   "execution_count": 72,
   "id": "c68e0c1c",
   "metadata": {},
   "outputs": [
    {
     "name": "stdout",
     "output_type": "stream",
     "text": [
      "count             52196\n",
      "unique            32061\n",
      "top       90160264.100a\n",
      "freq                  4\n",
      "Name: IDpol, dtype: object\n",
      "count    52196.000000\n",
      "mean      2003.381466\n",
      "std          0.485751\n",
      "min       2003.000000\n",
      "25%       2003.000000\n",
      "50%       2003.000000\n",
      "75%       2004.000000\n",
      "max       2004.000000\n",
      "Name: Year, dtype: float64\n",
      "count    52196.000000\n",
      "mean        39.918270\n",
      "std         11.969359\n",
      "min          1.000000\n",
      "25%         31.000000\n",
      "50%         38.000000\n",
      "75%         47.000000\n",
      "max        198.000000\n",
      "Name: DrivAge, dtype: float64\n",
      "count     52196\n",
      "unique        5\n",
      "top           M\n",
      "freq      33847\n",
      "Name: DrivGender, dtype: object\n",
      "count    52196.000000\n",
      "mean        62.876638\n",
      "std         15.219480\n",
      "min         50.000000\n",
      "25%         50.000000\n",
      "50%         57.000000\n",
      "75%         72.000000\n",
      "max        156.000000\n",
      "Name: BonusMalus, dtype: float64\n",
      "count    52196.000000\n",
      "mean         1.884723\n",
      "std          0.665136\n",
      "min          1.000000\n",
      "25%          1.000000\n",
      "50%          2.000000\n",
      "75%          2.000000\n",
      "max          7.000000\n",
      "Name: LicenceNb, dtype: float64\n",
      "count           52196\n",
      "unique              4\n",
      "top       Half-yearly\n",
      "freq            29096\n",
      "Name: PayFreq, dtype: object\n",
      "count    52196.000000\n",
      "mean         7.520361\n",
      "std          4.754436\n",
      "min          0.000000\n",
      "25%          4.000000\n",
      "50%          7.000000\n",
      "75%         10.000000\n",
      "max         89.000000\n",
      "Name: VehAge, dtype: float64\n",
      "count        52196\n",
      "unique           9\n",
      "top       Cheapest\n",
      "freq         17938\n",
      "Name: VehClass, dtype: object\n",
      "count     52196\n",
      "unique       15\n",
      "top         P10\n",
      "freq       9171\n",
      "Name: VehPower, dtype: object\n",
      "count       52196\n",
      "unique          3\n",
      "top       Regular\n",
      "freq        31511\n",
      "Name: VehGas, dtype: object\n",
      "count                      52196\n",
      "unique                         3\n",
      "top       Private+trip to office\n",
      "freq                       50676\n",
      "Name: VehUsage, dtype: object\n",
      "count           52196\n",
      "unique              4\n",
      "top       Closed zbox\n",
      "freq            26478\n",
      "Name: Garage, dtype: object\n",
      "count     52196\n",
      "unique       10\n",
      "top          A5\n",
      "freq      15185\n",
      "Name: Area, dtype: object\n",
      "count             52196\n",
      "unique               13\n",
      "top       Île-de-France\n",
      "freq               7909\n",
      "Name: Region, dtype: object\n",
      "count     52196\n",
      "unique        4\n",
      "top          M1\n",
      "freq      26478\n",
      "Name: Marketing, dtype: object\n",
      "count    52196.000000\n",
      "mean        25.773852\n",
      "std         20.475339\n",
      "min          0.000000\n",
      "25%         13.000000\n",
      "50%         22.000000\n",
      "75%         35.000000\n",
      "max        264.000000\n",
      "Name: PremWindscreen, dtype: float64\n",
      "count    52196.000000\n",
      "mean        83.229884\n",
      "std        105.697242\n",
      "min          0.000000\n",
      "25%          0.000000\n",
      "50%          0.000000\n",
      "75%        144.000000\n",
      "max       1429.000000\n",
      "Name: PremDamAll, dtype: float64\n",
      "count    52196.000000\n",
      "mean         4.423308\n",
      "std          4.479323\n",
      "min          0.000000\n",
      "25%          0.000000\n",
      "50%          4.000000\n",
      "75%          7.000000\n",
      "max         50.000000\n",
      "Name: PremFire, dtype: float64\n",
      "count    52196.000000\n",
      "mean        12.915645\n",
      "std         16.720826\n",
      "min          0.000000\n",
      "25%          0.000000\n",
      "50%          0.000000\n",
      "75%         32.000000\n",
      "max         77.000000\n",
      "Name: PremAcc1, dtype: float64\n",
      "count    52196.000000\n",
      "mean        15.407100\n",
      "std         23.803675\n",
      "min          0.000000\n",
      "25%          0.000000\n",
      "50%          0.000000\n",
      "75%         46.000000\n",
      "max        198.000000\n",
      "Name: PremAcc2, dtype: float64\n",
      "count    52196.000000\n",
      "mean        10.411219\n",
      "std          3.889152\n",
      "min          0.000000\n",
      "25%          8.000000\n",
      "50%         10.000000\n",
      "75%         12.000000\n",
      "max         50.000000\n",
      "Name: PremLegal, dtype: float64\n",
      "count    52196.000000\n",
      "mean       167.152372\n",
      "std         96.220189\n",
      "min         38.900000\n",
      "25%        102.500000\n",
      "50%        141.500000\n",
      "75%        203.600000\n",
      "max       1432.700000\n",
      "Name: PremTPLM, dtype: float64\n",
      "count    52196.000000\n",
      "mean         8.544544\n",
      "std          5.171142\n",
      "min          0.000000\n",
      "25%          5.000000\n",
      "50%          7.000000\n",
      "75%         11.000000\n",
      "max         68.000000\n",
      "Name: PremTPLV, dtype: float64\n",
      "count    52196.000000\n",
      "mean        53.762970\n",
      "std          5.133212\n",
      "min          0.000000\n",
      "25%         51.000000\n",
      "50%         53.000000\n",
      "75%         57.000000\n",
      "max        237.000000\n",
      "Name: PremServ, dtype: float64\n",
      "count    52196.000000\n",
      "mean        46.592996\n",
      "std         48.656474\n",
      "min          0.000000\n",
      "25%          0.000000\n",
      "50%         38.000000\n",
      "75%         68.000000\n",
      "max        642.000000\n",
      "Name: PremTheft, dtype: float64\n",
      "count    52196.000000\n",
      "mean       428.213890\n",
      "std        224.377748\n",
      "min         91.000000\n",
      "25%        269.400000\n",
      "50%        381.100000\n",
      "75%        529.800000\n",
      "max       3163.300000\n",
      "Name: PremTot, dtype: float64\n"
     ]
    }
   ],
   "source": [
    "for element in prem_ssDM.columns :\n",
    "    print(prem_ssDM[element].describe() )\n",
    "    \n",
    "# agedrive > 100 ans et < 18\n"
   ]
  },
  {
   "cell_type": "code",
   "execution_count": 73,
   "id": "b8a5be68",
   "metadata": {},
   "outputs": [
    {
     "data": {
      "text/plain": [
       "M         33847\n",
       "F         17851\n",
       "H           432\n",
       "Male         42\n",
       "Female       24\n",
       "Name: DrivGender, dtype: int64"
      ]
     },
     "execution_count": 73,
     "metadata": {},
     "output_type": "execute_result"
    }
   ],
   "source": [
    "prem_ssDM.DrivGender.value_counts()"
   ]
  },
  {
   "cell_type": "code",
   "execution_count": 74,
   "id": "b9a6e9bf",
   "metadata": {},
   "outputs": [],
   "source": [
    "# database with no missing data or inconsistent data\n",
    "\n",
    "prem_ssDMDI =  prem_ssDM"
   ]
  },
  {
   "cell_type": "code",
   "execution_count": 75,
   "id": "6939bb64",
   "metadata": {},
   "outputs": [],
   "source": [
    "# The database is created with no missing data or inconsistent data\n",
    "#prem_ssDMDI['DrivGender'] = prem_ssDM['DrivGender'].value_counts(dropna=True) \n"
   ]
  },
  {
   "cell_type": "code",
   "execution_count": 76,
   "id": "caaa0b43",
   "metadata": {},
   "outputs": [],
   "source": [
    "prem_ssDMDI.DrivGender.replace({'H': \"M\", \"Male\":\"M\",\"Female\":\"F\"},inplace=True)"
   ]
  },
  {
   "cell_type": "code",
   "execution_count": 77,
   "id": "e7472311",
   "metadata": {},
   "outputs": [
    {
     "data": {
      "text/plain": [
       "M    34321\n",
       "F    17875\n",
       "Name: DrivGender, dtype: int64"
      ]
     },
     "execution_count": 77,
     "metadata": {},
     "output_type": "execute_result"
    }
   ],
   "source": [
    "prem_ssDMDI.DrivGender.value_counts()"
   ]
  },
  {
   "cell_type": "code",
   "execution_count": null,
   "id": "6e2f0e9c",
   "metadata": {},
   "outputs": [],
   "source": [
    "#outliers DriveAge\n",
    "\n",
    "sns.boxplot(prem_ssDM.DrivAge)\n",
    "\n",
    "plt.show()"
   ]
  },
  {
   "cell_type": "code",
   "execution_count": 79,
   "id": "b8feddde",
   "metadata": {},
   "outputs": [],
   "source": [
    "# code with same graph but the difference is that above we use the seaborn librery and here we use a matplotlib method\n",
    "\n",
    "# Outliers detection graphique DI colonne DriveAge\n",
    "\n",
    "#plt.grid(True)\n",
    "#plt.boxplot(prem_ssDM.DrivAge)\n",
    "#plt.show()"
   ]
  },
  {
   "cell_type": "code",
   "execution_count": 80,
   "id": "bd1f43fe",
   "metadata": {},
   "outputs": [
    {
     "data": {
      "text/plain": [
       "count    52196.000000\n",
       "mean        39.918270\n",
       "std         11.969359\n",
       "min          1.000000\n",
       "25%         31.000000\n",
       "50%         38.000000\n",
       "75%         47.000000\n",
       "max        198.000000\n",
       "Name: DrivAge, dtype: float64"
      ]
     },
     "execution_count": 80,
     "metadata": {},
     "output_type": "execute_result"
    }
   ],
   "source": [
    "# statistics of the variable\n",
    "prem_ssDM.DrivAge.describe() "
   ]
  },
  {
   "cell_type": "code",
   "execution_count": null,
   "id": "de149534",
   "metadata": {},
   "outputs": [],
   "source": [
    "# Nb Outliers DrivAge\n",
    "\n",
    "prem_ssDM[(prem.DrivAge<18)|(prem.DrivAge>100)] \n",
    "#22 inconsistent rows"
   ]
  },
  {
   "cell_type": "code",
   "execution_count": 82,
   "id": "e510ec1b",
   "metadata": {},
   "outputs": [],
   "source": [
    " \n",
    "prem_ssDMDI = prem_ssDM[(prem_ssDM.DrivAge>=18)&(prem_ssDM.DrivAge<=100)] \n",
    "# selection of coherent rows (removal of the 22 anomalies)"
   ]
  },
  {
   "cell_type": "code",
   "execution_count": null,
   "id": "8e6399a3",
   "metadata": {},
   "outputs": [],
   "source": [
    "# Colonne DriveAge modificated\n",
    "sns.boxplot(prem_ssDMDI.DrivAge)\n",
    "\n",
    "plt.show()"
   ]
  },
  {
   "cell_type": "code",
   "execution_count": 84,
   "id": "4794142e",
   "metadata": {},
   "outputs": [
    {
     "data": {
      "image/png": "[encoded data removed]",
      "text/plain": [
       "<Figure size 640x480 with 1 Axes>"
      ]
     },
     "metadata": {},
     "output_type": "display_data"
    }
   ],
   "source": [
    "# Corrected DriveAge column graph with method from matplotlib\n",
    "plt.grid(True)\n",
    "plt.boxplot(prem_ssDMDI.DrivAge)\n",
    "plt.show()"
   ]
  },
  {
   "cell_type": "code",
   "execution_count": 85,
   "id": "7135972a",
   "metadata": {},
   "outputs": [
    {
     "data": {
      "text/plain": [
       "count    52174.000000\n",
       "mean        39.902288\n",
       "std         11.840062\n",
       "min         18.000000\n",
       "25%         31.000000\n",
       "50%         38.000000\n",
       "75%         47.000000\n",
       "max         97.000000\n",
       "Name: DrivAge, dtype: float64"
      ]
     },
     "execution_count": 85,
     "metadata": {},
     "output_type": "execute_result"
    }
   ],
   "source": [
    "prem_ssDMDI.DrivAge.describe() "
   ]
  },
  {
   "attachments": {},
   "cell_type": "markdown",
   "id": "f5e4e45e",
   "metadata": {},
   "source": [
    "Base sev"
   ]
  },
  {
   "attachments": {},
   "cell_type": "markdown",
   "id": "c8805433",
   "metadata": {},
   "source": [
    "identification of inconsistent data in Sev database"
   ]
  },
  {
   "cell_type": "code",
   "execution_count": 86,
   "id": "9d311071",
   "metadata": {},
   "outputs": [
    {
     "name": "stdout",
     "output_type": "stream",
     "text": [
      "<class 'pandas.core.frame.DataFrame'>\n",
      "RangeIndex: 9274 entries, 0 to 9273\n",
      "Data columns (total 5 columns):\n",
      " #   Column     Non-Null Count  Dtype \n",
      "---  ------     --------------  ----- \n",
      " 0   IDpol      9274 non-null   object\n",
      " 1   OccurDate  9274 non-null   int64 \n",
      " 2   Payment    9274 non-null   object\n",
      " 3   IDclaim    9274 non-null   int64 \n",
      " 4   Guarantee  9274 non-null   object\n",
      "dtypes: int64(2), object(3)\n",
      "memory usage: 362.4+ KB\n"
     ]
    }
   ],
   "source": [
    "sev.info()"
   ]
  },
  {
   "cell_type": "code",
   "execution_count": 87,
   "id": "d1b54b48",
   "metadata": {},
   "outputs": [
    {
     "data": {
      "text/plain": [
       "IDpol        object\n",
       "OccurDate     int64\n",
       "Payment      object\n",
       "IDclaim       int64\n",
       "Guarantee    object\n",
       "dtype: object"
      ]
     },
     "execution_count": 87,
     "metadata": {},
     "output_type": "execute_result"
    }
   ],
   "source": [
    " sev.dtypes\n",
    "# Column Payment as object"
   ]
  },
  {
   "cell_type": "code",
   "execution_count": null,
   "id": "48e0384b",
   "metadata": {
    "scrolled": true
   },
   "outputs": [],
   "source": [
    "# Payment Non-numerical \n",
    "sns.catplot(x=\"Guarantee\", y=\"Payment\", data=sev,kind=\"bar\")\n",
    "\n",
    "plt.show()"
   ]
  },
  {
   "cell_type": "code",
   "execution_count": null,
   "id": "67aa7d31",
   "metadata": {},
   "outputs": [],
   "source": [
    "\n",
    "pd.to_numeric(sev[\"Payment\"])"
   ]
  },
  {
   "cell_type": "code",
   "execution_count": null,
   "id": "536433a4",
   "metadata": {},
   "outputs": [],
   "source": [
    "sev.iloc[67] # look at the row number 67"
   ]
  },
  {
   "cell_type": "code",
   "execution_count": 90,
   "id": "65c5fe5b",
   "metadata": {},
   "outputs": [
    {
     "data": {
      "text/plain": [
       "'Waiting'"
      ]
     },
     "execution_count": 90,
     "metadata": {},
     "output_type": "execute_result"
    }
   ],
   "source": [
    "# access row 67 column 2\n",
    "sev.iat[67,2]"
   ]
  },
  {
   "cell_type": "code",
   "execution_count": 91,
   "id": "d9a1f346",
   "metadata": {},
   "outputs": [
    {
     "data": {
      "text/plain": [
       "'Waiting'"
      ]
     },
     "execution_count": 91,
     "metadata": {},
     "output_type": "execute_result"
    }
   ],
   "source": [
    "sev.Payment[67]"
   ]
  },
  {
   "cell_type": "code",
   "execution_count": 92,
   "id": "aa6b9e72",
   "metadata": {},
   "outputs": [],
   "source": [
    "sev= sev[sev['Payment'].str.contains('\\d+')] # remove the string in Payment"
   ]
  },
  {
   "cell_type": "code",
   "execution_count": null,
   "id": "978163f2",
   "metadata": {},
   "outputs": [],
   "source": [
    "sev.Payment = pd.to_numeric(sev[\"Payment\"])"
   ]
  },
  {
   "cell_type": "code",
   "execution_count": 94,
   "id": "a2eb56c6",
   "metadata": {},
   "outputs": [],
   "source": [
    "#sev.drop(573,axis=0, inplace = True)\n",
    "#sev.drop(573)"
   ]
  },
  {
   "cell_type": "code",
   "execution_count": 95,
   "id": "1c74797e",
   "metadata": {},
   "outputs": [
    {
     "name": "stdout",
     "output_type": "stream",
     "text": [
      "<class 'pandas.core.frame.DataFrame'>\n",
      "Int64Index: 9269 entries, 0 to 9273\n",
      "Data columns (total 5 columns):\n",
      " #   Column     Non-Null Count  Dtype \n",
      "---  ------     --------------  ----- \n",
      " 0   IDpol      9269 non-null   object\n",
      " 1   OccurDate  9269 non-null   int64 \n",
      " 2   Payment    9269 non-null   int64 \n",
      " 3   IDclaim    9269 non-null   int64 \n",
      " 4   Guarantee  9269 non-null   object\n",
      "dtypes: int64(3), object(2)\n",
      "memory usage: 434.5+ KB\n"
     ]
    }
   ],
   "source": [
    "sev.info()"
   ]
  },
  {
   "cell_type": "code",
   "execution_count": null,
   "id": "2da7a1c7",
   "metadata": {},
   "outputs": [],
   "source": [
    "sev"
   ]
  },
  {
   "cell_type": "code",
   "execution_count": 97,
   "id": "041620c8",
   "metadata": {},
   "outputs": [
    {
     "data": {
      "image/png": "[encoded data removed]",
      "text/plain": [
       "<Figure size 640x480 with 1 Axes>"
      ]
     },
     "metadata": {},
     "output_type": "display_data"
    }
   ],
   "source": [
    "# graphically identify outliers\n",
    "sns.scatterplot(data=sev.Payment)\n",
    "plt.show()"
   ]
  },
  {
   "cell_type": "code",
   "execution_count": 98,
   "id": "e761dc3a",
   "metadata": {},
   "outputs": [
    {
     "name": "stdout",
     "output_type": "stream",
     "text": [
      "632893\n"
     ]
    }
   ],
   "source": [
    "# identify the value of the outlier\n",
    "\n",
    "for element in sev.Payment:\n",
    "    if element > 200000 :\n",
    "        print(element)"
   ]
  },
  {
   "attachments": {},
   "cell_type": "markdown",
   "id": "f54751b4",
   "metadata": {},
   "source": [
    "### there are 2 methods\n",
    "\n",
    "# Z score method for processing Outliers *Retained method\n",
    "\n",
    "A z-score tells you how many standard deviations a given value is from the mean. We use the following formula to calculate a z-score:\n",
    "\n",
    "z = (X – μ) / σ\n",
    "\n",
    "where:\n",
    "\n",
    "X is a single raw data value\n",
    "μ is the population mean\n",
    "σ is the population standard deviation\n",
    "You could define an observation to be an outlier if it has a z-score less than -3 or greater than 3.\n",
    "\n",
    "Outliers = Observations with z-scores > 3 or < -3"
   ]
  },
  {
   "attachments": {},
   "cell_type": "markdown",
   "id": "0f078dca",
   "metadata": {},
   "source": [
    "# Interquartile Méthode\n",
    "\n",
    "The interquartile range (IQR) is the difference between the 75th percentile (Q3) and the 25th percentile (Q1) in a dataset. It measures the spread of the middle 50% of values.\n",
    "\n",
    "You could define an observation to be an outlier if it is 1.5 times the interquartile range greater than the third quartile (Q3) or 1.5 times the interquartile range less than the first quartile (Q1).\n",
    "\n",
    "Outliers = Observations > Q3 + 1.5*IQR  or  Q1 – 1.5*IQR"
   ]
  },
  {
   "attachments": {},
   "cell_type": "markdown",
   "id": "7d767f8e",
   "metadata": {},
   "source": [
    "\n",
    "#find Q1, Q3, and interquartile range for each column\n",
    "data=sev.Payment\n",
    "Q1 = data.quantile(q=.25)\n",
    "Q3 = data.quantile(q=.75)\n",
    "IQR = data.apply(stats.iqr)\n",
    "\n",
    "#only keep rows in dataframe that have values within 1.5*IQR of Q1 and Q3\n",
    "data_clean = data[~((data < (Q1-1.5*IQR)) | (data > (Q3+1.5*IQR)))]\n",
    "\n",
    "#find how many rows are left in the dataframe \n",
    "data_clean.shape\n",
    "\n",
    "data_clean.info()\n",
    "\n",
    "sns.scatterplot(data=data_clean)\n",
    "plt.show()\n"
   ]
  },
  {
   "cell_type": "code",
   "execution_count": null,
   "id": "62775479",
   "metadata": {},
   "outputs": [],
   "source": [
    "# Traitement des outiliers Methone Z score : # Treatment of outliers Z score method: make the graph more readable; \n",
    "\n",
    "import scipy.stats as stats\n",
    "#find absolute value of z-score for each observation\n",
    "z = np.abs(stats.zscore(sev.Payment))\n",
    "\n",
    "#only keep rows in dataframe with all z-scores less than absolute value of 3 \n",
    "sev.Payment = sev.Payment[(z<3)]\n",
    "\n",
    "#find how many rows are left in the dataframe \n",
    "sev.shape\n",
    "\n",
    "(99,3)"
   ]
  },
  {
   "cell_type": "code",
   "execution_count": 100,
   "id": "1db135a5",
   "metadata": {},
   "outputs": [
    {
     "data": {
      "image/png": "[encoded data removed]",
      "text/plain": [
       "<Figure size 640x480 with 1 Axes>"
      ]
     },
     "metadata": {},
     "output_type": "display_data"
    }
   ],
   "source": [
    "#graph without outliers\n",
    "sns.scatterplot(data= sev.Payment)\n",
    "plt.show()"
   ]
  },
  {
   "attachments": {},
   "cell_type": "markdown",
   "id": "16e6cc1b",
   "metadata": {},
   "source": [
    "# Jointure"
   ]
  },
  {
   "attachments": {},
   "cell_type": "markdown",
   "id": "657a3dee",
   "metadata": {},
   "source": [
    "## Base Freq"
   ]
  },
  {
   "cell_type": "code",
   "execution_count": null,
   "id": "a6d0840c",
   "metadata": {},
   "outputs": [],
   "source": [
    "freq"
   ]
  },
  {
   "attachments": {},
   "cell_type": "markdown",
   "id": "1f00c10c",
   "metadata": {},
   "source": [
    "IDpol can appear twice (year 2003 or year 2004) we will concatenate IDpol and the column Year"
   ]
  },
  {
   "cell_type": "code",
   "execution_count": 102,
   "id": "dcff1292",
   "metadata": {},
   "outputs": [],
   "source": [
    "# replace str for concatenation\n",
    "columnas = ['IDpol']\n",
    "\n",
    "freq[columnas] = freq[columnas].replace({'a':'1','b':'2','c':'3','d':'4','e':'5','f':'6','g':'7','h':'8','A':'1'}, regex=True)"
   ]
  },
  {
   "cell_type": "code",
   "execution_count": null,
   "id": "2dee2d68",
   "metadata": {},
   "outputs": [],
   "source": [
    "# elimination of punctuation marks:\n",
    "\n",
    "import string\n",
    "freq[columnas] = freq[columnas].astype(str).apply(lambda x: x.str.replace('[{}]'.format(string.punctuation), ''))"
   ]
  },
  {
   "cell_type": "code",
   "execution_count": null,
   "id": "4d6f0c16",
   "metadata": {},
   "outputs": [],
   "source": [
    "# column Tot_nb_sin is the horizontal sum of the other columns\n",
    " \n",
    "Cols_sin = [\"Damage\",\"Fire\",\"Other\",\"Theft\",\"TPL\",\"Windscreen\"]\n",
    "freq['Tot_Nb_sin'] = freq[Cols_sin].sum(axis=1)\n",
    "freq.head()\n",
    "\n",
    "# freq_grup = freq.groupby([\"IDpol\"]).sum()\n",
    "# freq_grup"
   ]
  },
  {
   "cell_type": "code",
   "execution_count": 105,
   "id": "5883ed15",
   "metadata": {},
   "outputs": [
    {
     "data": {
      "text/plain": [
       "0    55674\n",
       "1     7798\n",
       "2      671\n",
       "3       46\n",
       "4        6\n",
       "Name: Tot_Nb_sin, dtype: int64"
      ]
     },
     "execution_count": 105,
     "metadata": {},
     "output_type": "execute_result"
    }
   ],
   "source": [
    "# not many individuals with > 3 incidents\n",
    "freq[\"Tot_Nb_sin\"].value_counts()\n"
   ]
  },
  {
   "cell_type": "code",
   "execution_count": 106,
   "id": "4f66293c",
   "metadata": {},
   "outputs": [],
   "source": [
    "#Access line info\n",
    " \n",
    "#freq.drop([2899],axis=0,inplace=True)"
   ]
  },
  {
   "cell_type": "code",
   "execution_count": 107,
   "id": "4f9db27e",
   "metadata": {},
   "outputs": [],
   "source": [
    "# Year as a string pour concatener\n",
    "\n",
    "freq['Year'] = freq['Year'].astype(str)"
   ]
  },
  {
   "cell_type": "code",
   "execution_count": 108,
   "id": "73d1c05c",
   "metadata": {},
   "outputs": [],
   "source": [
    "# IDpol as a string pour concatener\n",
    "freq['IDpol'] = freq['IDpol'].astype(str)"
   ]
  },
  {
   "cell_type": "code",
   "execution_count": null,
   "id": "73442bf2",
   "metadata": {},
   "outputs": [],
   "source": [
    "# Idpol+year\n",
    "freq['IDpol'] = freq.IDpol.str.cat(freq.Year)\n",
    "freq"
   ]
  },
  {
   "cell_type": "code",
   "execution_count": 113,
   "id": "ea76afce",
   "metadata": {},
   "outputs": [],
   "source": [
    "# get endogenous variable:\n",
    "freq=freq.drop(['Year','Damage','Fire','Other',\"Theft\",\"TPL\",'Windscreen'], axis=1) "
   ]
  },
  {
   "cell_type": "code",
   "execution_count": null,
   "id": "49ac1761",
   "metadata": {},
   "outputs": [],
   "source": [
    "freq"
   ]
  },
  {
   "cell_type": "code",
   "execution_count": 115,
   "id": "a97482c1",
   "metadata": {},
   "outputs": [],
   "source": [
    "#pd.concat([df1,df2],axis=1) #1 horizontale 0 verticale"
   ]
  },
  {
   "attachments": {},
   "cell_type": "markdown",
   "id": "ff3365fc",
   "metadata": {},
   "source": [
    "Base prem_ssDMDI"
   ]
  },
  {
   "cell_type": "code",
   "execution_count": null,
   "id": "dfbdee4e",
   "metadata": {},
   "outputs": [],
   "source": [
    "# replace str \n",
    "#column = ['IDpol']\n",
    "\n",
    "prem_ssDMDI['IDpol'] = prem_ssDMDI['IDpol'].replace({'a':'1','b':'2','c':'3','d':'4','e':'5','f':'6','g':'7','h':'8','A':'1'}, regex=True)\n"
   ]
  },
  {
   "cell_type": "code",
   "execution_count": null,
   "id": "a23d0534",
   "metadata": {},
   "outputs": [],
   "source": [
    "# eliminate IDpol punctuation marks:\n",
    "\n",
    "columnas = ['IDpol']\n",
    "prem_ssDMDI[columnas] =  prem_ssDMDI[columnas].astype(str).apply(lambda x: x.str.replace('[{}]'.format(string.punctuation), ''))"
   ]
  },
  {
   "cell_type": "code",
   "execution_count": 118,
   "id": "af4a96b1",
   "metadata": {},
   "outputs": [
    {
     "data": {
      "text/plain": [
       "IDpol              object\n",
       "Year                int64\n",
       "DrivAge             int64\n",
       "DrivGender         object\n",
       "BonusMalus        float64\n",
       "LicenceNb           int64\n",
       "PayFreq            object\n",
       "VehAge            float64\n",
       "VehClass           object\n",
       "VehPower           object\n",
       "VehGas             object\n",
       "VehUsage           object\n",
       "Garage             object\n",
       "Area               object\n",
       "Region             object\n",
       "Marketing          object\n",
       "PremWindscreen      int64\n",
       "PremDamAll          int64\n",
       "PremFire            int64\n",
       "PremAcc1            int64\n",
       "PremAcc2            int64\n",
       "PremLegal           int64\n",
       "PremTPLM          float64\n",
       "PremTPLV            int64\n",
       "PremServ            int64\n",
       "PremTheft           int64\n",
       "PremTot           float64\n",
       "dtype: object"
      ]
     },
     "execution_count": 118,
     "metadata": {},
     "output_type": "execute_result"
    }
   ],
   "source": [
    "prem_ssDMDI.dtypes"
   ]
  },
  {
   "cell_type": "code",
   "execution_count": null,
   "id": "aca773ad",
   "metadata": {},
   "outputs": [],
   "source": [
    "# Year as a string to concatenate \n",
    "prem_ssDMDI['Year'] = prem_ssDMDI['Year'].astype(str)"
   ]
  },
  {
   "cell_type": "code",
   "execution_count": null,
   "id": "ae9f9eb9",
   "metadata": {
    "scrolled": false
   },
   "outputs": [],
   "source": [
    "# base prem_ssDMDI ready for join\n",
    "\n",
    "prem_ssDMDI['IDpol'] = prem_ssDMDI.IDpol.str.cat(prem_ssDMDI.Year)\n",
    "prem_ssDMDI"
   ]
  },
  {
   "cell_type": "code",
   "execution_count": null,
   "id": "6068f6e7",
   "metadata": {},
   "outputs": [],
   "source": [
    "# year as int64\n",
    "prem_ssDMDI['Year'] = prem_ssDMDI['Year'].astype('int64')"
   ]
  },
  {
   "cell_type": "code",
   "execution_count": 122,
   "id": "10168bc0",
   "metadata": {},
   "outputs": [
    {
     "data": {
      "text/plain": [
       "(52174, 27)"
      ]
     },
     "execution_count": 122,
     "metadata": {},
     "output_type": "execute_result"
    }
   ],
   "source": [
    "prem_ssDMDI.shape"
   ]
  },
  {
   "cell_type": "code",
   "execution_count": 123,
   "id": "6bf7201c",
   "metadata": {},
   "outputs": [
    {
     "data": {
      "text/plain": [
       "(64195, 2)"
      ]
     },
     "execution_count": 123,
     "metadata": {},
     "output_type": "execute_result"
    }
   ],
   "source": [
    "freq.shape"
   ]
  },
  {
   "attachments": {},
   "cell_type": "markdown",
   "id": "d8100f3c",
   "metadata": {},
   "source": [
    "### JOINTURE  "
   ]
  },
  {
   "cell_type": "code",
   "execution_count": 183,
   "id": "1bf1694e",
   "metadata": {},
   "outputs": [],
   "source": [
    "# Joining the prem_ssDMDI and freq databases\n",
    "base_v2 = pd.merge(prem_ssDMDI,freq,on = 'IDpol', how = 'inner') \n",
    "#base_v2.set_index(['IDpol'])\n",
    "#base_v2"
   ]
  },
  {
   "cell_type": "code",
   "execution_count": null,
   "id": "9df15487",
   "metadata": {},
   "outputs": [],
   "source": [
    "base_v2 = base_v2.set_index(['IDpol'])\n",
    "base_v2"
   ]
  },
  {
   "cell_type": "code",
   "execution_count": 185,
   "id": "11aa0901",
   "metadata": {},
   "outputs": [],
   "source": [
    "#base_v2=base_v2.drop(['IDpolYear','IDpol_y','Year_y'], axis=1) \n",
    "#base_v2.shape"
   ]
  },
  {
   "cell_type": "code",
   "execution_count": 186,
   "id": "3e272ca0",
   "metadata": {},
   "outputs": [
    {
     "name": "stdout",
     "output_type": "stream",
     "text": [
      "<class 'pandas.core.frame.DataFrame'>\n",
      "Index: 52143 entries, 100041910112004 to 9019488310012003\n",
      "Data columns (total 27 columns):\n",
      " #   Column          Non-Null Count  Dtype  \n",
      "---  ------          --------------  -----  \n",
      " 0   Year            52143 non-null  int64  \n",
      " 1   DrivAge         52143 non-null  int64  \n",
      " 2   DrivGender      52143 non-null  object \n",
      " 3   BonusMalus      52143 non-null  float64\n",
      " 4   LicenceNb       52143 non-null  int64  \n",
      " 5   PayFreq         52143 non-null  object \n",
      " 6   VehAge          52143 non-null  float64\n",
      " 7   VehClass        52143 non-null  object \n",
      " 8   VehPower        52143 non-null  object \n",
      " 9   VehGas          52143 non-null  object \n",
      " 10  VehUsage        52143 non-null  object \n",
      " 11  Garage          52143 non-null  object \n",
      " 12  Area            52143 non-null  object \n",
      " 13  Region          52143 non-null  object \n",
      " 14  Marketing       52143 non-null  object \n",
      " 15  PremWindscreen  52143 non-null  int64  \n",
      " 16  PremDamAll      52143 non-null  int64  \n",
      " 17  PremFire        52143 non-null  int64  \n",
      " 18  PremAcc1        52143 non-null  int64  \n",
      " 19  PremAcc2        52143 non-null  int64  \n",
      " 20  PremLegal       52143 non-null  int64  \n",
      " 21  PremTPLM        52143 non-null  float64\n",
      " 22  PremTPLV        52143 non-null  int64  \n",
      " 23  PremServ        52143 non-null  int64  \n",
      " 24  PremTheft       52143 non-null  int64  \n",
      " 25  PremTot         52143 non-null  float64\n",
      " 26  Tot_Nb_sin      52143 non-null  int64  \n",
      "dtypes: float64(4), int64(13), object(10)\n",
      "memory usage: 11.1+ MB\n"
     ]
    }
   ],
   "source": [
    "v= [base_v2.info() ]"
   ]
  }
 ],
 "metadata": {
  "kernelspec": {
   "display_name": "Python 3 (ipykernel)",
   "language": "python",
   "name": "python3"
  },
  "language_info": {
   "codemirror_mode": {
    "name": "ipython",
    "version": 3
   },
   "file_extension": ".py",
   "mimetype": "text/x-python",
   "name": "python",
   "nbconvert_exporter": "python",
   "pygments_lexer": "ipython3",
   "version": "3.9.13"
  }
 },
 "nbformat": 4,
 "nbformat_minor": 5
}
